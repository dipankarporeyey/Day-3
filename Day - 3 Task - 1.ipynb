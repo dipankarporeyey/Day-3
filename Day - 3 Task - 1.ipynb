{
 "cells": [
  {
   "cell_type": "markdown",
   "metadata": {},
   "source": [
    "1. Create a null vector of size 10 but the fifth value which is 1 \n",
    "\n",
    "2. Create a vector with values ranging from 10 to 49\n",
    "\n",
    "3. Reverse a vector\n",
    "\n",
    "4. Create a 3x3 matrix with values ranging from 0 to 8\n",
    "\n",
    "5. Find indices of non-zero elements from [1,2,0,0,4,0]\n",
    "\n",
    "6. Create a 3x3x3 array with random values\n",
    "\n",
    "7. Create a 10x10 array with random values and find the minimum and maximum values\n",
    "\n",
    "8. Create a 2d array with 1 on the border and 0 inside\n"
   ]
  },
  {
   "cell_type": "code",
   "execution_count": 38,
   "metadata": {},
   "outputs": [],
   "source": [
    "import numpy as np"
   ]
  },
  {
   "cell_type": "code",
   "execution_count": 39,
   "metadata": {},
   "outputs": [
    {
     "name": "stdout",
     "output_type": "stream",
     "text": [
      "[0. 0. 0. 0. 1. 0. 0. 0. 0. 0.]\n"
     ]
    }
   ],
   "source": [
    "# 1. Create a null vector of size 10 but the fifth value which is 1\n",
    "aa = np.zeros((10,))\n",
    "aa[4] = 1\n",
    "print(aa)"
   ]
  },
  {
   "cell_type": "code",
   "execution_count": 40,
   "metadata": {},
   "outputs": [
    {
     "name": "stdout",
     "output_type": "stream",
     "text": [
      "[10 11 12 13 14 15 16 17 18 19 20 21 22 23 24 25 26 27 28 29 30 31 32 33\n",
      " 34 35 36 37 38 39 40 41 42 43 44 45 46 47 48 49]\n"
     ]
    }
   ],
   "source": [
    "# 2. Create a vector with values ranging from 10 to 49\n",
    "bb = np.array([i for i in range(10, 50)])\n",
    "print(bb)"
   ]
  },
  {
   "cell_type": "code",
   "execution_count": 41,
   "metadata": {},
   "outputs": [
    {
     "name": "stdout",
     "output_type": "stream",
     "text": [
      "[49 48 47 46 45 44 43 42 41 40 39 38 37 36 35 34 33 32 31 30 29 28 27 26\n",
      " 25 24 23 22 21 20 19 18 17 16 15 14 13 12 11 10]\n"
     ]
    }
   ],
   "source": [
    "# 3. Reverse a vector\n",
    "print(bb[::-1])"
   ]
  },
  {
   "cell_type": "code",
   "execution_count": 42,
   "metadata": {},
   "outputs": [
    {
     "name": "stdout",
     "output_type": "stream",
     "text": [
      "[[0 1 2]\n",
      " [3 4 5]\n",
      " [6 7 8]]\n"
     ]
    }
   ],
   "source": [
    "# 4. Create a 3x3 matrix with values ranging from 0 to 8\n",
    "cc = np.array([i for i in range(9)])\n",
    "cc = cc.reshape((3,3))\n",
    "print(cc)"
   ]
  },
  {
   "cell_type": "code",
   "execution_count": 43,
   "metadata": {},
   "outputs": [
    {
     "name": "stdout",
     "output_type": "stream",
     "text": [
      "[0 1 4]\n"
     ]
    }
   ],
   "source": [
    "# 5. Find indices of non-zero elements from [1,2,0,0,4,0]\n",
    "dd_temp = [1,2,0,0,4,0]\n",
    "dd = np.array([dd_temp.index(i) for i in dd_temp if i!=0])\n",
    "print(dd)"
   ]
  },
  {
   "cell_type": "code",
   "execution_count": 44,
   "metadata": {},
   "outputs": [
    {
     "name": "stdout",
     "output_type": "stream",
     "text": [
      "[[[ 8 24 67]\n",
      "  [87 79 48]\n",
      "  [10 94 52]]\n",
      "\n",
      " [[98 53 66]\n",
      "  [98 14 34]\n",
      "  [24 15 60]]\n",
      "\n",
      " [[58 16  9]\n",
      "  [93 86  2]\n",
      "  [27  4 31]]]\n"
     ]
    }
   ],
   "source": [
    "# 6. Create a 3x3x3 array with random values\n",
    "np.random.seed(100)\n",
    "ee = np.random.randint(0,100,size=(3,3,3))\n",
    "print(ee)"
   ]
  },
  {
   "cell_type": "code",
   "execution_count": 45,
   "metadata": {},
   "outputs": [
    {
     "name": "stdout",
     "output_type": "stream",
     "text": [
      "[[ 8 24 67 87 79 48 10 94 52 98]\n",
      " [53 66 98 14 34 24 15 60 58 16]\n",
      " [ 9 93 86  2 27  4 31  1 13 83]\n",
      " [ 4 91 59 67  7 49 47 65 61 14]\n",
      " [55 71 80  2 94 19 98 63 53 27]\n",
      " [56 30 48 47 39 38 44 18 64 56]\n",
      " [34 53 74 17 72 13 30 17 53 68]\n",
      " [50 91 91 83 53 78  0 13 57 76]\n",
      " [ 3 70  3 84 79 10 87 60  3 48]\n",
      " [52 43 36  5 71 38 86 94 98 42]]\n",
      "max value:  98\n",
      "min value:  0\n"
     ]
    }
   ],
   "source": [
    "# 7. Create a 10x10 array with random values and find the minimum and maximum values\n",
    "np.random.seed(100)\n",
    "ff = np.random.randint(0,100,size=(10,10))\n",
    "print(ff)\n",
    "print(\"max value: \",ff.max())\n",
    "print(\"min value: \",ff.min())"
   ]
  },
  {
   "cell_type": "code",
   "execution_count": 46,
   "metadata": {},
   "outputs": [
    {
     "name": "stdout",
     "output_type": "stream",
     "text": [
      "[[1. 1. 1. 1. 1. 1. 1. 1. 1. 1.]\n",
      " [1. 0. 0. 0. 0. 0. 0. 0. 0. 1.]\n",
      " [1. 0. 0. 0. 0. 0. 0. 0. 0. 1.]\n",
      " [1. 0. 0. 0. 0. 0. 0. 0. 0. 1.]\n",
      " [1. 0. 0. 0. 0. 0. 0. 0. 0. 1.]\n",
      " [1. 0. 0. 0. 0. 0. 0. 0. 0. 1.]\n",
      " [1. 0. 0. 0. 0. 0. 0. 0. 0. 1.]\n",
      " [1. 0. 0. 0. 0. 0. 0. 0. 0. 1.]\n",
      " [1. 0. 0. 0. 0. 0. 0. 0. 0. 1.]\n",
      " [1. 1. 1. 1. 1. 1. 1. 1. 1. 1.]]\n"
     ]
    }
   ],
   "source": [
    "# 8. Create a 2d array with 1 on the border and 0 inside\n",
    "gg = np.zeros((10,10))\n",
    "for i in range(gg.shape[0]):\n",
    "    for j in range(gg.shape[1]):\n",
    "        if(i==0 or j==0 or i==gg.shape[0]-1 or j==gg.shape[1]-1):\n",
    "            gg[i][j] = 1\n",
    "print(gg)"
   ]
  },
  {
   "cell_type": "code",
   "execution_count": null,
   "metadata": {},
   "outputs": [],
   "source": []
  }
 ],
 "metadata": {
  "kernelspec": {
   "display_name": "Python 3",
   "language": "python",
   "name": "python3"
  },
  "language_info": {
   "codemirror_mode": {
    "name": "ipython",
    "version": 3
   },
   "file_extension": ".py",
   "mimetype": "text/x-python",
   "name": "python",
   "nbconvert_exporter": "python",
   "pygments_lexer": "ipython3",
   "version": "3.7.6"
  }
 },
 "nbformat": 4,
 "nbformat_minor": 4
}
